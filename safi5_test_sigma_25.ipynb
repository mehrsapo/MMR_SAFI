{
 "cells": [
  {
   "cell_type": "code",
   "execution_count": 1,
   "metadata": {},
   "outputs": [],
   "source": [
    "from dataloader.BSD500 import BSD500\n",
    "import torch\n",
    "from R_network_relax import RNet\n",
    "import json\n",
    "from matplotlib import pyplot as plt\n",
    "import pandas as pd\n",
    "import numpy as np"
   ]
  },
  {
   "cell_type": "code",
   "execution_count": 2,
   "metadata": {},
   "outputs": [],
   "source": [
    "from skimage.metrics import peak_signal_noise_ratio as compare_psnr\n",
    "\n",
    "def compute_PSNR(img, imclean, data_range):\n",
    "    Img = img.data.cpu().numpy().astype(np.float32)\n",
    "    Iclean = imclean.data.cpu().numpy().astype(np.float32)\n",
    "    PSNR = compare_psnr(Iclean[0,:,:,:], Img[0,:,:,:], data_range=data_range)\n",
    "    return PSNR\n",
    "    "
   ]
  },
  {
   "cell_type": "code",
   "execution_count": 3,
   "metadata": {},
   "outputs": [],
   "source": [
    "test_dataset = BSD500('data/test.h5')"
   ]
  },
  {
   "cell_type": "code",
   "execution_count": 4,
   "metadata": {},
   "outputs": [],
   "source": [
    "sigma = 25  \n",
    "\n",
    "\n",
    "val_data = pd.read_csv(f\"{'denoise_val_results'}/validation_scores_{'sigma_25_relaxed_valid'}.csv\").reset_index(drop=True)\n",
    "p1 = val_data.loc[val_data[\"psnr\"].idxmax()][\"p1\"]\n",
    "\n",
    "\n",
    "exp = \"/home/pourya/mm_final/exps/sigma25/64_2_7_1e-3_relaxed\"\n",
    "path_ckp = exp + \"/checkpoints/checkpoint_best_epoch.pth\"\n",
    "path_config = exp + \"/config.json\"\n",
    "device = 'cuda:0'\n",
    "config = json.load(open(path_config))\n",
    "ckp = torch.load(path_ckp, map_location={'cuda:0':device,'cuda:1':device,'cuda:2':device,'cuda:3':device})\n",
    "\n",
    "model = RNet(config['model_params'])\n",
    "model.to(device)\n",
    "model.load_state_dict(ckp['state_dict'])\n",
    "model.eval()\n",
    "\n",
    "\n",
    "model.eigenimage = model.eigenimage.to(device)\n",
    "\n",
    "model.W1.W1.weight.data = model.zeromean(model.W1.W1.weight)\n",
    "for i, _ in enumerate(model.W1.W1s): \n",
    "    model.W1.W1s[i].weight.data = model.zeromean(model.W1.W1s[i].weight)"
   ]
  },
  {
   "cell_type": "code",
   "execution_count": 5,
   "metadata": {},
   "outputs": [
    {
     "name": "stdout",
     "output_type": "stream",
     "text": [
      "1 30.09\n",
      "2 28.64\n",
      "3 30.67\n",
      "4 29.87\n",
      "5 30.08\n",
      "6 26.48\n",
      "7 28.93\n",
      "8 28.62\n",
      "9 29.77\n",
      "10 29.0\n",
      "11 28.3\n",
      "12 26.25\n",
      "13 29.55\n",
      "14 26.63\n",
      "15 28.19\n",
      "16 30.88\n",
      "17 28.35\n",
      "18 29.38\n",
      "19 31.52\n",
      "20 29.6\n",
      "21 33.22\n",
      "22 27.42\n",
      "23 26.7\n",
      "24 24.34\n",
      "25 27.87\n",
      "26 28.92\n",
      "27 27.97\n",
      "28 33.01\n",
      "29 26.09\n",
      "30 30.37\n",
      "31 27.91\n",
      "32 32.09\n",
      "33 30.02\n",
      "34 23.97\n",
      "35 28.61\n",
      "36 28.31\n",
      "37 29.2\n",
      "38 27.48\n",
      "39 33.64\n",
      "40 26.32\n",
      "41 30.9\n",
      "42 33.16\n",
      "43 31.02\n",
      "44 30.28\n",
      "45 27.11\n",
      "46 29.8\n",
      "47 28.93\n",
      "48 26.89\n",
      "49 25.82\n",
      "50 38.29\n",
      "51 27.49\n",
      "52 33.53\n",
      "53 33.55\n",
      "54 30.22\n",
      "55 29.06\n",
      "56 27.22\n",
      "57 26.3\n",
      "58 27.56\n",
      "59 24.47\n",
      "60 26.57\n",
      "61 28.54\n",
      "62 27.98\n",
      "63 31.06\n",
      "64 24.68\n",
      "65 28.88\n",
      "66 33.11\n",
      "67 32.97\n",
      "68 29.41\n"
     ]
    }
   ],
   "source": [
    "i = 0\n",
    "psnrs = list()\n",
    "\n",
    "with torch.no_grad():\n",
    "    for img in test_dataset:\n",
    "        i = i + 1\n",
    "        if True:\n",
    "            gt = img.to(device)[None, :, :, :]\n",
    "            noisy_image = (img.to(device) + (25.0/255.0)*torch.randn(img.shape, device=device))[None, :, :, :]\n",
    "            denoised = model.solve_majorize_minimize(noisy_image)\n",
    "            psnr = np.round(compute_PSNR(denoised, gt, 1), 2)\n",
    "            psnrs.append(psnr)\n",
    "            print(i, psnr)"
   ]
  },
  {
   "cell_type": "code",
   "execution_count": 6,
   "metadata": {},
   "outputs": [
    {
     "name": "stdout",
     "output_type": "stream",
     "text": [
      "29.1 2.59\n"
     ]
    }
   ],
   "source": [
    "print(np.round(np.mean(np.array(psnrs)), 2), np.round(np.std(np.array(psnrs)), 2))"
   ]
  },
  {
   "cell_type": "code",
   "execution_count": null,
   "metadata": {},
   "outputs": [],
   "source": []
  }
 ],
 "metadata": {
  "kernelspec": {
   "display_name": "htv_reg",
   "language": "python",
   "name": "python3"
  },
  "language_info": {
   "codemirror_mode": {
    "name": "ipython",
    "version": 3
   },
   "file_extension": ".py",
   "mimetype": "text/x-python",
   "name": "python",
   "nbconvert_exporter": "python",
   "pygments_lexer": "ipython3",
   "version": "3.9.16"
  }
 },
 "nbformat": 4,
 "nbformat_minor": 2
}
