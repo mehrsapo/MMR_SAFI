{
 "cells": [
  {
   "cell_type": "code",
   "execution_count": 1,
   "metadata": {},
   "outputs": [],
   "source": [
    "from validate_coarse_to_fine import * \n",
    "from dataloader.BSD500 import BSD500\n",
    "import torch\n",
    "from R_network_mm import RNet\n",
    "import json\n",
    "from matplotlib import pyplot as plt\n",
    "from torchmetrics.functional import peak_signal_noise_ratio as psnr\n",
    "from torchmetrics.functional import structural_similarity_index_measure as ssim"
   ]
  },
  {
   "cell_type": "code",
   "execution_count": 2,
   "metadata": {},
   "outputs": [],
   "source": [
    "from skimage.metrics import peak_signal_noise_ratio as compare_psnr\n",
    "\n",
    "def compute_PSNR(img, imclean, data_range):\n",
    "    Img = img.data.cpu().numpy().astype(np.float32)\n",
    "    Iclean = imclean.data.cpu().numpy().astype(np.float32)\n",
    "    PSNR = compare_psnr(Iclean[0,:,:,:], Img[0,:,:,:], data_range=data_range)\n",
    "    return PSNR\n",
    "    "
   ]
  },
  {
   "cell_type": "code",
   "execution_count": 3,
   "metadata": {},
   "outputs": [],
   "source": [
    "test_dataset = BSD500('data/test.h5')"
   ]
  },
  {
   "cell_type": "code",
   "execution_count": 4,
   "metadata": {},
   "outputs": [
    {
     "name": "stdout",
     "output_type": "stream",
     "text": [
      "Parameter containing:\n",
      "tensor([[0.0011]], device='cuda:3', requires_grad=True) 0.0011094470382648\n"
     ]
    }
   ],
   "source": [
    "sigma = 25.0  \n",
    "\n",
    "val_data = pd.read_csv(f\"{'denoise_val_results'}/validation_scores_{'sigma_25_mm_valid'}.csv\").reset_index(drop=True)\n",
    "p1 = val_data.loc[val_data[\"psnr\"].idxmax()][\"p1\"]\n",
    "\n",
    "exp = \"/home/pourya/mm_final/exps/sigma25/64_2_7_1e-3_majorized\"\n",
    "path_ckp = exp + \"/checkpoints/checkpoint_best_epoch.pth\"\n",
    "path_config = exp + \"/config.json\"\n",
    "device = 'cuda:3'\n",
    "config = json.load(open(path_config))\n",
    "ckp = torch.load(path_ckp, map_location={'cuda:0':device,'cuda:1':device,'cuda:2':device,'cuda:3':device})\n",
    "\n",
    "model = RNet(config['model_params'])\n",
    "model.to(device)\n",
    "model.load_state_dict(ckp['state_dict'])\n",
    "model.eval()\n",
    "\n",
    "model.W2.W1.weight.data = model.sumtoone(model.W2.W1.weight)\n",
    "for i, _ in enumerate(model.W2.W1s): \n",
    "    model.W2.W1s[i].weight.data = model.sumtoone(model.W2.W1s[i].weight)\n",
    "\n",
    "\n",
    "model.W1.W1.weight.data = model.zeromean(model.W1.W1.weight)\n",
    "for i, _ in enumerate(model.W1.W1s): \n",
    "    model.W1.W1s[i].weight.data = model.zeromean(model.W1.W1s[i].weight)\n",
    "\n",
    "\n",
    "model.eigenimage = model.eigenimage.to(device)\n",
    "print(model.lmbda, p1)\n",
    "lip, model.eigenimage = model.W1.cal_lip(model.eigenimage, 1000)\n",
    "model.alpha = 1 / lip\n",
    "model.lmbda = torch.nn.Parameter(torch.ones(1, 1).to(device) * p1)\n"
   ]
  },
  {
   "cell_type": "code",
   "execution_count": 5,
   "metadata": {},
   "outputs": [],
   "source": [
    "def safi_denoise(y):\n",
    "    s = 1e-3\n",
    "    n = 5\n",
    "    e = 1e-5\n",
    "    q = (e/s) ** (1/n)\n",
    "    tols = [s * q**(i) for i in range(n+1)]\n",
    "    n_out = 10\n",
    "    for _ in range(n_out-(n+1)):\n",
    "        tols.append(e)\n",
    "    with torch.no_grad(): \n",
    "        n_in = 100  \n",
    "        c_k = model.prox_denoise_no_mask(y, y, n_in, tols[0], check_tol=True)\n",
    "        for it in range(n_out - 1):   \n",
    "            model.cal_mask(c_k)\n",
    "            c_k = model.prox_denoise_with_mask(y, c_k, n_in, tols[it+1], check_tol=True)\n",
    "\n",
    "    return c_k"
   ]
  },
  {
   "cell_type": "code",
   "execution_count": 6,
   "metadata": {},
   "outputs": [
    {
     "name": "stdout",
     "output_type": "stream",
     "text": [
      "1 29.65\n",
      "2 28.2\n",
      "3 30.3\n",
      "4 29.38\n",
      "5 29.54\n",
      "6 26.29\n",
      "7 28.29\n",
      "8 28.23\n",
      "9 29.19\n",
      "10 28.57\n",
      "11 27.69\n",
      "12 25.84\n",
      "13 29.26\n",
      "14 26.39\n",
      "15 27.43\n",
      "16 30.26\n",
      "17 27.99\n",
      "18 28.78\n",
      "19 31.0\n",
      "20 28.94\n",
      "21 32.58\n",
      "22 26.71\n",
      "23 26.41\n",
      "24 24.12\n",
      "25 27.53\n",
      "26 28.32\n",
      "27 27.27\n",
      "28 32.54\n",
      "29 25.67\n",
      "30 29.76\n",
      "31 27.41\n",
      "32 31.53\n",
      "33 29.47\n",
      "34 23.68\n",
      "35 28.16\n",
      "36 27.86\n",
      "37 28.6\n",
      "38 27.26\n",
      "39 32.81\n",
      "40 25.89\n",
      "41 30.43\n",
      "42 31.9\n",
      "43 30.47\n",
      "44 29.85\n",
      "45 26.59\n",
      "46 29.35\n",
      "47 28.64\n",
      "48 26.52\n",
      "49 25.6\n",
      "50 37.56\n",
      "51 27.15\n",
      "52 33.05\n",
      "53 32.58\n",
      "54 29.73\n",
      "55 28.6\n",
      "56 26.99\n",
      "57 25.79\n",
      "58 27.01\n",
      "59 24.33\n",
      "60 26.35\n",
      "61 27.98\n",
      "62 27.65\n",
      "63 30.49\n",
      "64 24.56\n",
      "65 28.39\n",
      "66 32.05\n",
      "67 32.45\n",
      "68 29.17\n"
     ]
    }
   ],
   "source": [
    "i = 0\n",
    "psnrs = list()\n",
    "\n",
    "with torch.no_grad():\n",
    "    for img in test_dataset:\n",
    "        i = i + 1\n",
    "        if True:\n",
    "            gt = img.to(device)[None, :, :, :]\n",
    "            noisy_image = (img.to(device) + (25/255.0)*torch.randn(img.shape, device=device))[None, :, :, :]\n",
    "            denoised =safi_denoise(noisy_image)\n",
    "            psnr = np.round(compute_PSNR(denoised, gt, 1), 2)\n",
    "            psnrs.append(psnr)\n",
    "            print(i, psnr)"
   ]
  },
  {
   "cell_type": "code",
   "execution_count": 7,
   "metadata": {},
   "outputs": [
    {
     "name": "stdout",
     "output_type": "stream",
     "text": [
      "28.62 2.46\n"
     ]
    }
   ],
   "source": [
    "print(np.round(np.mean(np.array(psnrs)), 2), np.round(np.std(np.array(psnrs)), 2))"
   ]
  },
  {
   "cell_type": "code",
   "execution_count": null,
   "metadata": {},
   "outputs": [],
   "source": []
  }
 ],
 "metadata": {
  "kernelspec": {
   "display_name": "htv_reg",
   "language": "python",
   "name": "python3"
  },
  "language_info": {
   "codemirror_mode": {
    "name": "ipython",
    "version": 3
   },
   "file_extension": ".py",
   "mimetype": "text/x-python",
   "name": "python",
   "nbconvert_exporter": "python",
   "pygments_lexer": "ipython3",
   "version": "3.9.16"
  }
 },
 "nbformat": 4,
 "nbformat_minor": 2
}
