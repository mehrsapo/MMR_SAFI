{
 "cells": [
  {
   "cell_type": "code",
   "execution_count": 1,
   "metadata": {},
   "outputs": [],
   "source": [
    "from dataloader.BSD500 import BSD500\n",
    "import torch\n",
    "from R_network_relax import RNet\n",
    "import json\n",
    "from matplotlib import pyplot as plt\n",
    "import pandas as pd\n",
    "import numpy as np"
   ]
  },
  {
   "cell_type": "code",
   "execution_count": 2,
   "metadata": {},
   "outputs": [],
   "source": [
    "from skimage.metrics import peak_signal_noise_ratio as compare_psnr\n",
    "\n",
    "def compute_PSNR(img, imclean, data_range):\n",
    "    Img = img.data.cpu().numpy().astype(np.float32)\n",
    "    Iclean = imclean.data.cpu().numpy().astype(np.float32)\n",
    "    PSNR = compare_psnr(Iclean[0,:,:,:], Img[0,:,:,:], data_range=data_range)\n",
    "    return PSNR\n",
    "    "
   ]
  },
  {
   "cell_type": "code",
   "execution_count": 3,
   "metadata": {},
   "outputs": [],
   "source": [
    "test_dataset = BSD500('data/test.h5')"
   ]
  },
  {
   "cell_type": "code",
   "execution_count": 4,
   "metadata": {},
   "outputs": [],
   "source": [
    "sigma = 5  \n",
    "\n",
    "\n",
    "val_data = pd.read_csv(f\"{'denoise_val_results'}/validation_scores_{'sigma_5_relaxed_valid'}.csv\").reset_index(drop=True)\n",
    "p1 = val_data.loc[val_data[\"psnr\"].idxmax()][\"p1\"]\n",
    "\n",
    "\n",
    "exp = \"/home/pourya/mm_final/exps/sigma5/64_2_7_1e-3_relaxed\"\n",
    "path_ckp = exp + \"/checkpoints/checkpoint_best_epoch.pth\"\n",
    "path_config = exp + \"/config.json\"\n",
    "device = 'cuda:0'\n",
    "config = json.load(open(path_config))\n",
    "ckp = torch.load(path_ckp, map_location={'cuda:0':device,'cuda:1':device,'cuda:2':device,'cuda:3':device})\n",
    "\n",
    "model = RNet(config['model_params'])\n",
    "model.to(device)\n",
    "model.load_state_dict(ckp['state_dict'])\n",
    "model.eval()\n",
    "\n",
    "\n",
    "model.eigenimage = model.eigenimage.to(device)\n",
    "\n",
    "model.W1.W1.weight.data = model.zeromean(model.W1.W1.weight)\n",
    "for i, _ in enumerate(model.W1.W1s): \n",
    "    model.W1.W1s[i].weight.data = model.zeromean(model.W1.W1s[i].weight)"
   ]
  },
  {
   "cell_type": "code",
   "execution_count": 5,
   "metadata": {},
   "outputs": [
    {
     "name": "stdout",
     "output_type": "stream",
     "text": [
      "1 38.42\n",
      "2 37.13\n",
      "3 39.57\n",
      "4 38.29\n",
      "5 38.55\n",
      "6 36.45\n",
      "7 38.21\n",
      "8 37.85\n",
      "9 39.23\n",
      "10 37.97\n",
      "11 37.31\n",
      "12 36.06\n",
      "13 38.21\n",
      "14 36.29\n",
      "15 37.5\n",
      "16 39.09\n",
      "17 37.03\n",
      "18 37.25\n",
      "19 38.65\n",
      "20 38.15\n",
      "21 41.05\n",
      "22 35.44\n",
      "23 35.56\n",
      "24 35.53\n",
      "25 37.76\n",
      "26 38.07\n",
      "27 37.33\n",
      "28 40.72\n",
      "29 36.73\n",
      "30 37.94\n",
      "31 37.13\n",
      "32 39.15\n",
      "33 38.24\n",
      "34 34.82\n",
      "35 37.6\n",
      "36 37.6\n",
      "37 37.66\n",
      "38 37.08\n",
      "39 40.66\n",
      "40 35.82\n",
      "41 37.85\n",
      "42 41.24\n",
      "43 38.54\n",
      "44 39.27\n",
      "45 36.31\n",
      "46 38.29\n",
      "47 37.73\n",
      "48 36.19\n",
      "49 35.22\n",
      "50 45.28\n",
      "51 37.2\n",
      "52 39.81\n",
      "53 41.52\n",
      "54 39.01\n",
      "55 37.82\n",
      "56 36.66\n",
      "57 36.42\n",
      "58 36.68\n",
      "59 34.98\n",
      "60 36.21\n",
      "61 37.18\n",
      "62 36.98\n",
      "63 38.31\n",
      "64 35.04\n",
      "65 38.44\n",
      "66 41.47\n",
      "67 40.27\n",
      "68 39.05\n"
     ]
    }
   ],
   "source": [
    "i = 0\n",
    "psnrs = list()\n",
    "\n",
    "with torch.no_grad():\n",
    "    for img in test_dataset:\n",
    "        i = i + 1\n",
    "        if True:\n",
    "            gt = img.to(device)[None, :, :, :]\n",
    "            noisy_image = (img.to(device) + (5.0/255.0)*torch.randn(img.shape, device=device))[None, :, :, :]\n",
    "            denoised = model.solve_majorize_minimize(noisy_image)\n",
    "            psnr = np.round(compute_PSNR(denoised, gt, 1), 2)\n",
    "            psnrs.append(psnr)\n",
    "            print(i, psnr)"
   ]
  },
  {
   "cell_type": "code",
   "execution_count": 6,
   "metadata": {},
   "outputs": [
    {
     "name": "stdout",
     "output_type": "stream",
     "text": [
      "37.91 1.82\n"
     ]
    }
   ],
   "source": [
    "print(np.round(np.mean(np.array(psnrs)), 2), np.round(np.std(np.array(psnrs)), 2))"
   ]
  },
  {
   "cell_type": "code",
   "execution_count": null,
   "metadata": {},
   "outputs": [],
   "source": []
  }
 ],
 "metadata": {
  "kernelspec": {
   "display_name": "htv_reg",
   "language": "python",
   "name": "python3"
  },
  "language_info": {
   "codemirror_mode": {
    "name": "ipython",
    "version": 3
   },
   "file_extension": ".py",
   "mimetype": "text/x-python",
   "name": "python",
   "nbconvert_exporter": "python",
   "pygments_lexer": "ipython3",
   "version": "3.9.16"
  }
 },
 "nbformat": 4,
 "nbformat_minor": 2
}
