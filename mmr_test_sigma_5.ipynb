{
 "cells": [
  {
   "cell_type": "code",
   "execution_count": 1,
   "metadata": {},
   "outputs": [],
   "source": [
    "from validate_coarse_to_fine import * \n",
    "from dataloader.BSD500 import BSD500\n",
    "import torch\n",
    "from R_network_mm import RNet\n",
    "import json\n",
    "from matplotlib import pyplot as plt\n",
    "from torchmetrics.functional import peak_signal_noise_ratio as psnr\n",
    "from torchmetrics.functional import structural_similarity_index_measure as ssim"
   ]
  },
  {
   "cell_type": "code",
   "execution_count": 2,
   "metadata": {},
   "outputs": [],
   "source": [
    "from skimage.metrics import peak_signal_noise_ratio as compare_psnr\n",
    "\n",
    "def compute_PSNR(img, imclean, data_range):\n",
    "    Img = img.data.cpu().numpy().astype(np.float32)\n",
    "    Iclean = imclean.data.cpu().numpy().astype(np.float32)\n",
    "    PSNR = compare_psnr(Iclean[0,:,:,:], Img[0,:,:,:], data_range=data_range)\n",
    "    return PSNR\n",
    "    "
   ]
  },
  {
   "cell_type": "code",
   "execution_count": 3,
   "metadata": {},
   "outputs": [],
   "source": [
    "test_dataset = BSD500('data/test.h5')"
   ]
  },
  {
   "cell_type": "code",
   "execution_count": 4,
   "metadata": {},
   "outputs": [
    {
     "name": "stdout",
     "output_type": "stream",
     "text": [
      "Parameter containing:\n",
      "tensor([[0.0006]], device='cuda:1', requires_grad=True) 0.000534174614761\n"
     ]
    }
   ],
   "source": [
    "sigma = 5\n",
    "\n",
    "val_data = pd.read_csv(f\"{'denoise_val_results'}/validation_scores_{'sigma_5_mm_valid'}.csv\").reset_index(drop=True)\n",
    "p1 = val_data.loc[val_data[\"psnr\"].idxmax()][\"p1\"]\n",
    "\n",
    "exp = \"/home/pourya/mm_final/exps/sigma5/64_2_7_1e-3_mm\"\n",
    "path_ckp = exp + \"/checkpoints/checkpoint_best_epoch.pth\"\n",
    "path_config = exp + \"/config.json\"\n",
    "device = 'cuda:1'\n",
    "config = json.load(open(path_config))\n",
    "ckp = torch.load(path_ckp, map_location={'cuda:0':device,'cuda:1':device,'cuda:2':device,'cuda:3':device})\n",
    "\n",
    "model = RNet(config['model_params'])\n",
    "model.to(device)\n",
    "model.load_state_dict(ckp['state_dict'])\n",
    "model.eval()\n",
    "\n",
    "model.W2.W1.weight.data = model.sumtoone(model.W2.W1.weight)\n",
    "for i, _ in enumerate(model.W2.W1s): \n",
    "    model.W2.W1s[i].weight.data = model.sumtoone(model.W2.W1s[i].weight)\n",
    "\n",
    "\n",
    "model.W1.W1.weight.data = model.zeromean(model.W1.W1.weight)\n",
    "for i, _ in enumerate(model.W1.W1s): \n",
    "    model.W1.W1s[i].weight.data = model.zeromean(model.W1.W1s[i].weight)\n",
    "\n",
    "\n",
    "model.eigenimage = model.eigenimage.to(device)\n",
    "print(model.lmbda, p1)\n",
    "lip, model.eigenimage = model.W1.cal_lip(model.eigenimage, 1000)\n",
    "model.alpha = 1 / lip\n",
    "model.lmbda = torch.nn.Parameter(torch.ones(1, 1).to(device) * p1)\n"
   ]
  },
  {
   "cell_type": "code",
   "execution_count": 5,
   "metadata": {},
   "outputs": [],
   "source": [
    "def safi_denoise(y):\n",
    "    s = 1e-3\n",
    "    n = 5\n",
    "    e = 1e-5\n",
    "    q = (e/s) ** (1/n)\n",
    "    tols = [s * q**(i) for i in range(n+1)]\n",
    "    n_out = 10\n",
    "    for _ in range(n_out-(n+1)):\n",
    "        tols.append(e)\n",
    "    with torch.no_grad(): \n",
    "        n_in = 100  \n",
    "        c_k = model.prox_denoise_no_mask(y, y, n_in, tols[0], check_tol=True)\n",
    "        for it in range(n_out - 1):   \n",
    "            model.cal_mask(c_k)\n",
    "            c_k = model.prox_denoise_with_mask(y, c_k, n_in, tols[it+1], check_tol=True)\n",
    "\n",
    "    return c_k"
   ]
  },
  {
   "cell_type": "code",
   "execution_count": 6,
   "metadata": {},
   "outputs": [
    {
     "ename": "KeyboardInterrupt",
     "evalue": "",
     "output_type": "error",
     "traceback": [
      "\u001b[0;31m---------------------------------------------------------------------------\u001b[0m",
      "\u001b[0;31mKeyboardInterrupt\u001b[0m                         Traceback (most recent call last)",
      "Cell \u001b[0;32mIn[6], line 10\u001b[0m\n\u001b[1;32m      8\u001b[0m gt \u001b[38;5;241m=\u001b[39m img\u001b[38;5;241m.\u001b[39mto(device)[\u001b[38;5;28;01mNone\u001b[39;00m, :, :, :]\n\u001b[1;32m      9\u001b[0m noisy_image \u001b[38;5;241m=\u001b[39m (img\u001b[38;5;241m.\u001b[39mto(device) \u001b[38;5;241m+\u001b[39m (\u001b[38;5;241m5\u001b[39m\u001b[38;5;241m/\u001b[39m\u001b[38;5;241m255.0\u001b[39m)\u001b[38;5;241m*\u001b[39mtorch\u001b[38;5;241m.\u001b[39mrandn(img\u001b[38;5;241m.\u001b[39mshape, device\u001b[38;5;241m=\u001b[39mdevice))[\u001b[38;5;28;01mNone\u001b[39;00m, :, :, :]\n\u001b[0;32m---> 10\u001b[0m denoised \u001b[38;5;241m=\u001b[39m\u001b[43msafi_denoise\u001b[49m\u001b[43m(\u001b[49m\u001b[43mnoisy_image\u001b[49m\u001b[43m)\u001b[49m\n\u001b[1;32m     11\u001b[0m psnr \u001b[38;5;241m=\u001b[39m np\u001b[38;5;241m.\u001b[39mround(compute_PSNR(denoised, gt, \u001b[38;5;241m1\u001b[39m), \u001b[38;5;241m2\u001b[39m)\n\u001b[1;32m     12\u001b[0m psnrs\u001b[38;5;241m.\u001b[39mappend(psnr)\n",
      "Cell \u001b[0;32mIn[5], line 15\u001b[0m, in \u001b[0;36msafi_denoise\u001b[0;34m(y)\u001b[0m\n\u001b[1;32m     13\u001b[0m     \u001b[38;5;28;01mfor\u001b[39;00m it \u001b[38;5;129;01min\u001b[39;00m \u001b[38;5;28mrange\u001b[39m(n_out \u001b[38;5;241m-\u001b[39m \u001b[38;5;241m1\u001b[39m):   \n\u001b[1;32m     14\u001b[0m         model\u001b[38;5;241m.\u001b[39mcal_mask(c_k)\n\u001b[0;32m---> 15\u001b[0m         c_k \u001b[38;5;241m=\u001b[39m \u001b[43mmodel\u001b[49m\u001b[38;5;241;43m.\u001b[39;49m\u001b[43mprox_denoise_with_mask\u001b[49m\u001b[43m(\u001b[49m\u001b[43my\u001b[49m\u001b[43m,\u001b[49m\u001b[43m \u001b[49m\u001b[43mc_k\u001b[49m\u001b[43m,\u001b[49m\u001b[43m \u001b[49m\u001b[43mn_in\u001b[49m\u001b[43m,\u001b[49m\u001b[43m \u001b[49m\u001b[43mtols\u001b[49m\u001b[43m[\u001b[49m\u001b[43mit\u001b[49m\u001b[38;5;241;43m+\u001b[39;49m\u001b[38;5;241;43m1\u001b[39;49m\u001b[43m]\u001b[49m\u001b[43m,\u001b[49m\u001b[43m \u001b[49m\u001b[43mcheck_tol\u001b[49m\u001b[38;5;241;43m=\u001b[39;49m\u001b[38;5;28;43;01mTrue\u001b[39;49;00m\u001b[43m)\u001b[49m\n\u001b[1;32m     17\u001b[0m \u001b[38;5;28;01mreturn\u001b[39;00m c_k\n",
      "File \u001b[0;32m~/iterative_masks_final/R_network_mm.py:115\u001b[0m, in \u001b[0;36mRNet.prox_denoise_with_mask\u001b[0;34m(self, y, c_k, n_iter, tol, check_tol)\u001b[0m\n\u001b[1;32m    112\u001b[0m loss_new \u001b[38;5;241m=\u001b[39m ((y \u001b[38;5;241m-\u001b[39m c_k_new)\u001b[38;5;241m*\u001b[39m\u001b[38;5;241m*\u001b[39m\u001b[38;5;241m2\u001b[39m)\u001b[38;5;241m.\u001b[39msum() \u001b[38;5;241m/\u001b[39m \u001b[38;5;241m2\u001b[39m \u001b[38;5;241m+\u001b[39m \u001b[38;5;28mself\u001b[39m\u001b[38;5;241m.\u001b[39mlmbda \u001b[38;5;241m*\u001b[39m \u001b[38;5;28mself\u001b[39m\u001b[38;5;241m.\u001b[39mL(c_k_new)\u001b[38;5;241m.\u001b[39mabs()\u001b[38;5;241m.\u001b[39msum()\n\u001b[1;32m    114\u001b[0m rel_err \u001b[38;5;241m=\u001b[39m torch\u001b[38;5;241m.\u001b[39mabs(loss_old \u001b[38;5;241m-\u001b[39m loss_new) \u001b[38;5;241m/\u001b[39m loss_old  \n\u001b[0;32m--> 115\u001b[0m \u001b[38;5;28;01mif\u001b[39;00m rel_err \u001b[38;5;241m<\u001b[39m tol:\n\u001b[1;32m    116\u001b[0m     \u001b[38;5;28;01mbreak\u001b[39;00m\n\u001b[1;32m    118\u001b[0m loss_old \u001b[38;5;241m=\u001b[39m loss_new\n",
      "\u001b[0;31mKeyboardInterrupt\u001b[0m: "
     ]
    }
   ],
   "source": [
    "i = 0\n",
    "psnrs = list()\n",
    "\n",
    "with torch.no_grad():\n",
    "    for img in test_dataset:\n",
    "        i = i + 1\n",
    "        if True:\n",
    "            gt = img.to(device)[None, :, :, :]\n",
    "            noisy_image = (img.to(device) + (5/255.0)*torch.randn(img.shape, device=device))[None, :, :, :]\n",
    "            denoised =safi_denoise(noisy_image)\n",
    "            psnr = np.round(compute_PSNR(denoised, gt, 1), 2)\n",
    "            psnrs.append(psnr)\n",
    "            print(i, psnr)"
   ]
  },
  {
   "cell_type": "code",
   "execution_count": null,
   "metadata": {},
   "outputs": [
    {
     "name": "stdout",
     "output_type": "stream",
     "text": [
      "37.67 1.72\n"
     ]
    }
   ],
   "source": [
    "print(np.round(np.mean(np.array(psnrs)), 2), np.round(np.std(np.array(psnrs)), 2))"
   ]
  },
  {
   "cell_type": "code",
   "execution_count": null,
   "metadata": {},
   "outputs": [],
   "source": []
  }
 ],
 "metadata": {
  "kernelspec": {
   "display_name": "htv_reg",
   "language": "python",
   "name": "python3"
  },
  "language_info": {
   "codemirror_mode": {
    "name": "ipython",
    "version": 3
   },
   "file_extension": ".py",
   "mimetype": "text/x-python",
   "name": "python",
   "nbconvert_exporter": "python",
   "pygments_lexer": "ipython3",
   "version": "3.9.16"
  }
 },
 "nbformat": 4,
 "nbformat_minor": 2
}
