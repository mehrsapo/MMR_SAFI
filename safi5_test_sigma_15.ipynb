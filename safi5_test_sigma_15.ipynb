{
 "cells": [
  {
   "cell_type": "code",
   "execution_count": 1,
   "metadata": {},
   "outputs": [],
   "source": [
    "from dataloader.BSD500 import BSD500\n",
    "import torch\n",
    "from R_network_relax import RNet\n",
    "import json\n",
    "from matplotlib import pyplot as plt\n",
    "import pandas as pd\n",
    "import numpy as np"
   ]
  },
  {
   "cell_type": "code",
   "execution_count": 2,
   "metadata": {},
   "outputs": [],
   "source": [
    "from skimage.metrics import peak_signal_noise_ratio as compare_psnr\n",
    "\n",
    "def compute_PSNR(img, imclean, data_range):\n",
    "    Img = img.data.cpu().numpy().astype(np.float32)\n",
    "    Iclean = imclean.data.cpu().numpy().astype(np.float32)\n",
    "    PSNR = compare_psnr(Iclean[0,:,:,:], Img[0,:,:,:], data_range=data_range)\n",
    "    return PSNR\n",
    "    "
   ]
  },
  {
   "cell_type": "code",
   "execution_count": 3,
   "metadata": {},
   "outputs": [],
   "source": [
    "test_dataset = BSD500('data/test.h5')"
   ]
  },
  {
   "cell_type": "code",
   "execution_count": 4,
   "metadata": {},
   "outputs": [],
   "source": [
    "sigma = 15\n",
    "\n",
    "\n",
    "val_data = pd.read_csv(f\"{'denoise_val_results'}/validation_scores_{'sigma_15_relaxed_valid'}.csv\").reset_index(drop=True)\n",
    "p1 = val_data.loc[val_data[\"psnr\"].idxmax()][\"p1\"]\n",
    "\n",
    "\n",
    "exp = \"/home/pourya/mm_final/exps/sigma15/64_2_7_1e-3_relaxed\"\n",
    "path_ckp = exp + \"/checkpoints/checkpoint_best_epoch.pth\"\n",
    "path_config = exp + \"/config.json\"\n",
    "device = 'cuda:0'\n",
    "config = json.load(open(path_config))\n",
    "ckp = torch.load(path_ckp, map_location={'cuda:0':device,'cuda:1':device,'cuda:2':device,'cuda:3':device})\n",
    "\n",
    "model = RNet(config['model_params'])\n",
    "model.to(device)\n",
    "model.load_state_dict(ckp['state_dict'])\n",
    "model.eval()\n",
    "\n",
    "\n",
    "model.eigenimage = model.eigenimage.to(device)\n",
    "\n",
    "model.W1.W1.weight.data = model.zeromean(model.W1.W1.weight)\n",
    "for i, _ in enumerate(model.W1.W1s): \n",
    "    model.W1.W1s[i].weight.data = model.zeromean(model.W1.W1s[i].weight)"
   ]
  },
  {
   "cell_type": "code",
   "execution_count": 5,
   "metadata": {},
   "outputs": [
    {
     "name": "stdout",
     "output_type": "stream",
     "text": [
      "1 32.43\n",
      "2 30.95\n",
      "3 33.26\n",
      "4 32.39\n",
      "5 32.49\n",
      "6 29.42\n",
      "7 31.8\n",
      "8 31.34\n",
      "9 32.78\n",
      "10 31.5\n",
      "11 30.85\n",
      "12 28.96\n",
      "13 32.03\n",
      "14 29.36\n",
      "15 30.74\n",
      "16 33.29\n",
      "17 30.9\n",
      "18 31.58\n",
      "19 33.4\n",
      "20 32.07\n",
      "21 35.34\n",
      "22 29.15\n",
      "23 29.01\n",
      "24 27.5\n",
      "25 30.62\n",
      "26 31.52\n",
      "27 30.8\n",
      "28 35.2\n",
      "29 29.03\n",
      "30 32.28\n",
      "31 30.45\n",
      "32 33.98\n",
      "33 32.39\n",
      "34 26.94\n",
      "35 31.23\n",
      "36 30.76\n",
      "37 31.67\n",
      "38 30.17\n",
      "39 35.74\n",
      "40 29.03\n",
      "41 32.62\n",
      "42 35.38\n",
      "43 32.99\n",
      "44 33.07\n",
      "45 29.77\n",
      "46 32.15\n",
      "47 31.4\n",
      "48 29.4\n",
      "49 28.29\n",
      "50 40.71\n",
      "51 30.33\n",
      "52 35.32\n",
      "53 36.21\n",
      "54 32.66\n",
      "55 31.66\n",
      "56 29.89\n",
      "57 29.29\n",
      "58 30.12\n",
      "59 27.44\n",
      "60 29.27\n",
      "61 30.76\n",
      "62 30.45\n",
      "63 33.06\n",
      "64 27.53\n",
      "65 31.77\n",
      "66 35.96\n",
      "67 34.96\n",
      "68 32.19\n"
     ]
    }
   ],
   "source": [
    "i = 0\n",
    "psnrs = list()\n",
    "\n",
    "with torch.no_grad():\n",
    "    for img in test_dataset:\n",
    "        i = i + 1\n",
    "        if True:\n",
    "            gt = img.to(device)[None, :, :, :]\n",
    "            noisy_image = (img.to(device) + (15.0/255.0)*torch.randn(img.shape, device=device))[None, :, :, :]\n",
    "            denoised = model.solve_majorize_minimize(noisy_image)\n",
    "            psnr = np.round(compute_PSNR(denoised, gt, 1), 2)\n",
    "            psnrs.append(psnr)\n",
    "            print(i, psnr)"
   ]
  },
  {
   "cell_type": "code",
   "execution_count": 6,
   "metadata": {},
   "outputs": [
    {
     "name": "stdout",
     "output_type": "stream",
     "text": [
      "31.6 2.42\n"
     ]
    }
   ],
   "source": [
    "print(np.round(np.mean(np.array(psnrs)), 2), np.round(np.std(np.array(psnrs)), 2))"
   ]
  },
  {
   "cell_type": "code",
   "execution_count": null,
   "metadata": {},
   "outputs": [],
   "source": []
  }
 ],
 "metadata": {
  "kernelspec": {
   "display_name": "htv_reg",
   "language": "python",
   "name": "python3"
  },
  "language_info": {
   "codemirror_mode": {
    "name": "ipython",
    "version": 3
   },
   "file_extension": ".py",
   "mimetype": "text/x-python",
   "name": "python",
   "nbconvert_exporter": "python",
   "pygments_lexer": "ipython3",
   "version": "3.9.undefined"
  }
 },
 "nbformat": 4,
 "nbformat_minor": 2
}
