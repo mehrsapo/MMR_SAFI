{
 "cells": [
  {
   "cell_type": "code",
   "execution_count": 1,
   "metadata": {},
   "outputs": [],
   "source": [
    "from validate_coarse_to_fine import * \n",
    "from dataloader.BSD500 import BSD500\n",
    "import torch\n",
    "from R_network_mm import RNet\n",
    "import json\n",
    "from matplotlib import pyplot as plt\n",
    "from torchmetrics.functional import peak_signal_noise_ratio as psnr\n",
    "from torchmetrics.functional import structural_similarity_index_measure as ssim"
   ]
  },
  {
   "cell_type": "code",
   "execution_count": 2,
   "metadata": {},
   "outputs": [],
   "source": [
    "from skimage.metrics import peak_signal_noise_ratio as compare_psnr\n",
    "\n",
    "def compute_PSNR(img, imclean, data_range):\n",
    "    Img = img.data.cpu().numpy().astype(np.float32)\n",
    "    Iclean = imclean.data.cpu().numpy().astype(np.float32)\n",
    "    PSNR = compare_psnr(Iclean[0,:,:,:], Img[0,:,:,:], data_range=data_range)\n",
    "    return PSNR\n",
    "    "
   ]
  },
  {
   "cell_type": "code",
   "execution_count": 3,
   "metadata": {},
   "outputs": [],
   "source": [
    "test_dataset = BSD500('data/test.h5')"
   ]
  },
  {
   "cell_type": "code",
   "execution_count": 4,
   "metadata": {},
   "outputs": [
    {
     "name": "stdout",
     "output_type": "stream",
     "text": [
      "Parameter containing:\n",
      "tensor([[0.0006]], device='cuda:0', requires_grad=True) 0.0005889984895475\n"
     ]
    }
   ],
   "source": [
    "sigma = 15.0  \n",
    "\n",
    "val_data = pd.read_csv(f\"{'denoise_val_results'}/validation_scores_{'sigma_15_mm_valid'}.csv\").reset_index(drop=True)\n",
    "p1 = val_data.loc[val_data[\"psnr\"].idxmax()][\"p1\"]\n",
    "\n",
    "exp = \"/home/pourya/mm_final/exps/sigma15/64_2_7_1e-3_mm\"\n",
    "path_ckp = exp + \"/checkpoints/checkpoint_best_epoch.pth\"\n",
    "path_config = exp + \"/config.json\"\n",
    "device = 'cuda:0'\n",
    "config = json.load(open(path_config))\n",
    "ckp = torch.load(path_ckp, map_location={'cuda:0':device,'cuda:1':device,'cuda:2':device,'cuda:3':device})\n",
    "\n",
    "model = RNet(config['model_params'])\n",
    "model.to(device)\n",
    "model.load_state_dict(ckp['state_dict'])\n",
    "model.eval()\n",
    "\n",
    "model.W2.W1.weight.data = model.sumtoone(model.W2.W1.weight)\n",
    "for i, _ in enumerate(model.W2.W1s): \n",
    "    model.W2.W1s[i].weight.data = model.sumtoone(model.W2.W1s[i].weight)\n",
    "\n",
    "\n",
    "model.W1.W1.weight.data = model.zeromean(model.W1.W1.weight)\n",
    "for i, _ in enumerate(model.W1.W1s): \n",
    "    model.W1.W1s[i].weight.data = model.zeromean(model.W1.W1s[i].weight)\n",
    "\n",
    "\n",
    "model.eigenimage = model.eigenimage.to(device)\n",
    "print(model.lmbda, p1)\n",
    "lip, model.eigenimage = model.W1.cal_lip(model.eigenimage, 1000)\n",
    "model.alpha = 1 / lip\n",
    "model.lmbda = torch.nn.Parameter(torch.ones(1, 1).to(device) * p1)\n"
   ]
  },
  {
   "cell_type": "code",
   "execution_count": 5,
   "metadata": {},
   "outputs": [],
   "source": [
    "def safi_denoise(y):\n",
    "    s = 1e-3\n",
    "    n = 5\n",
    "    e = 1e-5\n",
    "    q = (e/s) ** (1/n)\n",
    "    tols = [s * q**(i) for i in range(n+1)]\n",
    "    n_out = 10\n",
    "    for _ in range(n_out-(n+1)):\n",
    "        tols.append(e)\n",
    "    with torch.no_grad(): \n",
    "        n_in = 100  \n",
    "        c_k = model.prox_denoise_no_mask(y, y, n_in, tols[0], check_tol=True)\n",
    "        for it in range(n_out - 1):   \n",
    "            model.cal_mask(c_k)\n",
    "            c_k = model.prox_denoise_with_mask(y, c_k, n_in, tols[it+1], check_tol=True)\n",
    "\n",
    "    return c_k"
   ]
  },
  {
   "cell_type": "code",
   "execution_count": 6,
   "metadata": {},
   "outputs": [
    {
     "name": "stdout",
     "output_type": "stream",
     "text": [
      "1 31.96\n",
      "2 30.58\n",
      "3 32.85\n",
      "4 31.78\n",
      "5 32.04\n",
      "6 29.16\n",
      "7 31.05\n",
      "8 30.92\n",
      "9 32.11\n",
      "10 31.13\n",
      "11 30.12\n",
      "12 28.72\n",
      "13 31.68\n",
      "14 29.14\n",
      "15 30.06\n",
      "16 32.63\n",
      "17 30.51\n",
      "18 30.89\n",
      "19 32.68\n",
      "20 31.15\n",
      "21 34.69\n",
      "22 27.38\n",
      "23 28.75\n",
      "24 27.27\n",
      "25 30.37\n",
      "26 30.87\n",
      "27 30.09\n",
      "28 34.72\n",
      "29 28.7\n",
      "30 31.6\n",
      "31 29.97\n",
      "32 33.11\n",
      "33 31.53\n",
      "34 26.75\n",
      "35 30.82\n",
      "36 30.38\n",
      "37 31.1\n",
      "38 29.91\n",
      "39 34.55\n",
      "40 28.68\n",
      "41 32.12\n",
      "42 33.98\n",
      "43 32.05\n",
      "44 32.45\n",
      "45 29.26\n",
      "46 31.71\n",
      "47 31.04\n",
      "48 29.07\n",
      "49 28.04\n",
      "50 39.54\n",
      "51 29.88\n",
      "52 34.9\n",
      "53 35.17\n",
      "54 32.29\n",
      "55 31.19\n",
      "56 29.54\n",
      "57 28.78\n",
      "58 29.64\n",
      "59 27.23\n",
      "60 29.02\n",
      "61 30.21\n",
      "62 30.12\n",
      "63 31.96\n",
      "64 27.43\n",
      "65 31.24\n",
      "66 34.86\n",
      "67 34.28\n",
      "68 31.88\n"
     ]
    }
   ],
   "source": [
    "i = 0\n",
    "psnrs = list()\n",
    "\n",
    "with torch.no_grad():\n",
    "    for img in test_dataset:\n",
    "        i = i + 1\n",
    "        if True:\n",
    "            gt = img.to(device)[None, :, :, :]\n",
    "            noisy_image = (img.to(device) + (15/255.0)*torch.randn(img.shape, device=device))[None, :, :, :]\n",
    "            denoised =safi_denoise(noisy_image)\n",
    "            psnr = np.round(compute_PSNR(denoised, gt, 1), 2)\n",
    "            psnrs.append(psnr)\n",
    "            print(i, psnr)"
   ]
  },
  {
   "cell_type": "code",
   "execution_count": 7,
   "metadata": {},
   "outputs": [
    {
     "name": "stdout",
     "output_type": "stream",
     "text": [
      "31.05 2.25\n"
     ]
    }
   ],
   "source": [
    "print(np.round(np.mean(np.array(psnrs)), 2), np.round(np.std(np.array(psnrs)), 2))"
   ]
  },
  {
   "cell_type": "code",
   "execution_count": null,
   "metadata": {},
   "outputs": [],
   "source": []
  }
 ],
 "metadata": {
  "kernelspec": {
   "display_name": "htv_reg",
   "language": "python",
   "name": "python3"
  },
  "language_info": {
   "codemirror_mode": {
    "name": "ipython",
    "version": 3
   },
   "file_extension": ".py",
   "mimetype": "text/x-python",
   "name": "python",
   "nbconvert_exporter": "python",
   "pygments_lexer": "ipython3",
   "version": "3.9.16"
  }
 },
 "nbformat": 4,
 "nbformat_minor": 2
}
