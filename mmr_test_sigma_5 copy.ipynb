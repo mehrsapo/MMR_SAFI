{
 "cells": [
  {
   "cell_type": "code",
   "execution_count": 1,
   "metadata": {},
   "outputs": [],
   "source": [
    "from validate_coarse_to_fine import * \n",
    "from dataloader.BSD500 import BSD500\n",
    "import torch\n",
    "from R_network_mm import RNet\n",
    "import json\n",
    "from matplotlib import pyplot as plt\n",
    "from torchmetrics.functional import peak_signal_noise_ratio as psnr\n",
    "from torchmetrics.functional import structural_similarity_index_measure as ssim"
   ]
  },
  {
   "cell_type": "code",
   "execution_count": 2,
   "metadata": {},
   "outputs": [],
   "source": [
    "from skimage.metrics import peak_signal_noise_ratio as compare_psnr\n",
    "\n",
    "def compute_PSNR(img, imclean, data_range):\n",
    "    Img = img.data.cpu().numpy().astype(np.float32)\n",
    "    Iclean = imclean.data.cpu().numpy().astype(np.float32)\n",
    "    PSNR = compare_psnr(Iclean[0,:,:,:], Img[0,:,:,:], data_range=data_range)\n",
    "    return PSNR\n",
    "    "
   ]
  },
  {
   "cell_type": "code",
   "execution_count": 3,
   "metadata": {},
   "outputs": [],
   "source": [
    "test_dataset = BSD500('data/test.h5')"
   ]
  },
  {
   "cell_type": "code",
   "execution_count": 4,
   "metadata": {},
   "outputs": [
    {
     "name": "stdout",
     "output_type": "stream",
     "text": [
      "Parameter containing:\n",
      "tensor([[0.0006]], device='cuda:1', requires_grad=True) 0.000534174614761\n"
     ]
    }
   ],
   "source": [
    "sigma = 5\n",
    "\n",
    "val_data = pd.read_csv(f\"{'denoise_val_results'}/validation_scores_{'sigma_5_mm_valid'}.csv\").reset_index(drop=True)\n",
    "p1 = val_data.loc[val_data[\"psnr\"].idxmax()][\"p1\"]\n",
    "\n",
    "exp = \"/home/pourya/mm_final/exps/sigma5/64_2_7_1e-3_mm\"\n",
    "path_ckp = exp + \"/checkpoints/checkpoint_best_epoch.pth\"\n",
    "path_config = exp + \"/config.json\"\n",
    "device = 'cuda:1'\n",
    "config = json.load(open(path_config))\n",
    "ckp = torch.load(path_ckp, map_location={'cuda:0':device,'cuda:1':device,'cuda:2':device,'cuda:3':device})\n",
    "\n",
    "model = RNet(config['model_params'])\n",
    "model.to(device)\n",
    "model.load_state_dict(ckp['state_dict'])\n",
    "model.eval()\n",
    "\n",
    "model.W2.W1.weight.data = model.sumtoone(model.W2.W1.weight)\n",
    "for i, _ in enumerate(model.W2.W1s): \n",
    "    model.W2.W1s[i].weight.data = model.sumtoone(model.W2.W1s[i].weight)\n",
    "\n",
    "\n",
    "model.W1.W1.weight.data = model.zeromean(model.W1.W1.weight)\n",
    "for i, _ in enumerate(model.W1.W1s): \n",
    "    model.W1.W1s[i].weight.data = model.zeromean(model.W1.W1s[i].weight)\n",
    "\n",
    "\n",
    "model.eigenimage = model.eigenimage.to(device)\n",
    "print(model.lmbda, p1)\n",
    "lip, model.eigenimage = model.W1.cal_lip(model.eigenimage, 1000)\n",
    "model.alpha = 1 / lip\n",
    "model.lmbda = torch.nn.Parameter(torch.ones(1, 1).to(device) * p1)\n"
   ]
  },
  {
   "cell_type": "code",
   "execution_count": null,
   "metadata": {},
   "outputs": [],
   "source": [
    "def safi_denoise(y):\n",
    "    s = 1e-3\n",
    "    n = 5\n",
    "    e = 1e-5\n",
    "    q = (e/s) ** (1/n)\n",
    "    tols = [s * q**(i) for i in range(n+1)]\n",
    "    n_out = 10\n",
    "    for _ in range(n_out-(n+1)):\n",
    "        tols.append(e)\n",
    "    with torch.no_grad(): \n",
    "        n_in = 100  \n",
    "        c_k = model.prox_denoise_no_mask(y, y, n_in, tols[0], check_tol=True)\n",
    "        for it in range(n_out - 1):   \n",
    "            model.cal_mask(c_k)\n",
    "            c_k = model.prox_denoise_with_mask(y, c_k, n_in, tols[it+1], check_tol=True)\n",
    "\n",
    "    return c_k"
   ]
  },
  {
   "cell_type": "code",
   "execution_count": null,
   "metadata": {},
   "outputs": [
    {
     "name": "stdout",
     "output_type": "stream",
     "text": [
      "1 36.41\n",
      "2 37.46\n",
      "3 38.15\n",
      "4 36.93\n",
      "5 35.3\n",
      "6 37.95\n",
      "7 37.82\n",
      "8 36.86\n",
      "9 40.74\n",
      "10 40.29\n",
      "11 35.67\n",
      "12 35.41\n",
      "13 40.4\n",
      "14 36.11\n",
      "15 38.13\n",
      "16 36.05\n",
      "17 38.25\n",
      "18 37.62\n",
      "19 40.12\n",
      "20 37.11\n",
      "21 38.15\n",
      "22 36.95\n",
      "23 37.82\n",
      "24 37.56\n",
      "25 38.24\n",
      "26 36.97\n",
      "27 36.54\n",
      "28 39.04\n",
      "29 38.83\n",
      "30 38.09\n",
      "31 34.85\n",
      "32 35.14\n",
      "33 36.09\n",
      "34 41.02\n",
      "35 36.31\n",
      "36 37.72\n",
      "37 40.62\n",
      "38 36.99\n",
      "39 38.91\n",
      "40 38.24\n",
      "41 37.78\n",
      "42 37.05\n",
      "43 38.86\n",
      "44 35.94\n",
      "45 34.97\n",
      "46 36.13\n",
      "47 36.94\n",
      "48 37.29\n",
      "49 36.44\n",
      "50 40.88\n",
      "51 44.74\n",
      "52 36.82\n",
      "53 38.68\n",
      "54 35.49\n",
      "55 38.99\n",
      "56 38.37\n",
      "57 37.44\n",
      "58 36.08\n",
      "59 37.41\n",
      "60 36.94\n",
      "61 39.25\n",
      "62 37.84\n",
      "63 38.81\n",
      "64 37.52\n",
      "65 34.77\n",
      "66 37.58\n",
      "67 37.57\n",
      "68 38.01\n"
     ]
    }
   ],
   "source": [
    "i = 0\n",
    "psnrs = list()\n",
    "\n",
    "with torch.no_grad():\n",
    "    for img in test_dataset:\n",
    "        i = i + 1\n",
    "        if True:\n",
    "            gt = img.to(device)[None, :, :, :]\n",
    "            noisy_image = (img.to(device) + (5/255.0)*torch.randn(img.shape, device=device))[None, :, :, :]\n",
    "            denoised =safi_denoise(noisy_image)\n",
    "            psnr = np.round(compute_PSNR(denoised, gt, 1), 2)\n",
    "            psnrs.append(psnr)\n",
    "            print(i, psnr)"
   ]
  },
  {
   "cell_type": "code",
   "execution_count": null,
   "metadata": {},
   "outputs": [
    {
     "name": "stdout",
     "output_type": "stream",
     "text": [
      "37.67 1.72\n"
     ]
    }
   ],
   "source": [
    "print(np.round(np.mean(np.array(psnrs)), 2), np.round(np.std(np.array(psnrs)), 2))"
   ]
  },
  {
   "cell_type": "code",
   "execution_count": null,
   "metadata": {},
   "outputs": [],
   "source": []
  }
 ],
 "metadata": {
  "kernelspec": {
   "display_name": "htv_reg",
   "language": "python",
   "name": "python3"
  },
  "language_info": {
   "codemirror_mode": {
    "name": "ipython",
    "version": 3
   },
   "file_extension": ".py",
   "mimetype": "text/x-python",
   "name": "python",
   "nbconvert_exporter": "python",
   "pygments_lexer": "ipython3",
   "version": "3.9.16"
  }
 },
 "nbformat": 4,
 "nbformat_minor": 2
}
