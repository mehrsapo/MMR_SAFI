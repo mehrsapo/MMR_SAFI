{
 "cells": [
  {
   "cell_type": "code",
   "execution_count": 1,
   "metadata": {},
   "outputs": [],
   "source": [
    "from dataloader.BSD500 import BSD500\n",
    "import torch\n",
    "from R_network_relax import RNet\n",
    "import json\n",
    "from matplotlib import pyplot as plt\n",
    "import pandas as pd\n",
    "import numpy as np"
   ]
  },
  {
   "cell_type": "code",
   "execution_count": 2,
   "metadata": {},
   "outputs": [],
   "source": [
    "from skimage.metrics import peak_signal_noise_ratio as compare_psnr\n",
    "\n",
    "def compute_PSNR(img, imclean, data_range):\n",
    "    Img = img.data.cpu().numpy().astype(np.float32)\n",
    "    Iclean = imclean.data.cpu().numpy().astype(np.float32)\n",
    "    PSNR = compare_psnr(Iclean[0,:,:,:], Img[0,:,:,:], data_range=data_range)\n",
    "    return PSNR\n",
    "    "
   ]
  },
  {
   "cell_type": "code",
   "execution_count": 3,
   "metadata": {},
   "outputs": [],
   "source": [
    "test_dataset = BSD500('data/test.h5')"
   ]
  },
  {
   "cell_type": "code",
   "execution_count": 4,
   "metadata": {},
   "outputs": [],
   "source": [
    "sigma = 15  \n",
    "\n",
    "\n",
    "val_data = pd.read_csv(f\"{'denoise_val_results'}/validation_scores_{'sigma_15_relaxed_valid'}.csv\").reset_index(drop=True)\n",
    "p1 = val_data.loc[val_data[\"psnr\"].idxmax()][\"p1\"]\n",
    "\n",
    "\n",
    "exp = \"/home/pourya/mm_final/exps/sigma15/64_2_7_1e-3_relaxed\"\n",
    "path_ckp = exp + \"/checkpoints/checkpoint_best_epoch.pth\"\n",
    "path_config = exp + \"/config.json\"\n",
    "device = 'cuda:1'\n",
    "config = json.load(open(path_config))\n",
    "ckp = torch.load(path_ckp, map_location={'cuda:0':device,'cuda:1':device,'cuda:2':device,'cuda:3':device})\n",
    "\n",
    "model = RNet(config['model_params'])\n",
    "model.to(device)\n",
    "model.load_state_dict(ckp['state_dict'])\n",
    "model.eval()\n",
    "\n",
    "\n",
    "model.eigenimage = model.eigenimage.to(device)\n",
    "lip, model.eigenimage = model.W1.cal_lip(model.eigenimage, 1000)\n",
    "model.alpha = 1 / lip\n",
    "model.lmbda = torch.nn.Parameter(torch.ones(1, 1).to(device) * p1)\n",
    "\n",
    "\n",
    "model.W1.W1.weight.data = model.zeromean(model.W1.W1.weight)\n",
    "for i, _ in enumerate(model.W1.W1s): \n",
    "    model.W1.W1s[i].weight.data = model.zeromean(model.W1.W1s[i].weight)"
   ]
  },
  {
   "cell_type": "code",
   "execution_count": 5,
   "metadata": {},
   "outputs": [],
   "source": [
    "def safi_denoise(y):\n",
    "    s = 1e-3\n",
    "    n = 5\n",
    "    e = 1e-5\n",
    "    q = (e/s) ** (1/n)\n",
    "    tols = [s * q**(i) for i in range(n+1)]\n",
    "    n_out = 10\n",
    "    for _ in range(n_out-(n+1)):\n",
    "        tols.append(e)\n",
    "    with torch.no_grad(): \n",
    "        n_in = 100  \n",
    "        c_k = model.prox_denoise_no_mask(y, y, n_in, tols[0], check_tol=True)\n",
    "        for it in range(n_out - 1):   \n",
    "            model.cal_mask(c_k)\n",
    "            c_k_new = model.prox_denoise_with_mask(y, c_k, n_in, tols[it+1], check_tol=True)\n",
    "            rel_err_out = (torch.norm(c_k - c_k_new) / torch.norm(c_k)).item() \n",
    "            sc = \"{:0.1e}\".format(rel_err_out)\n",
    "            c_k = c_k_new\n",
    "    \n",
    "    return c_k"
   ]
  },
  {
   "cell_type": "code",
   "execution_count": 6,
   "metadata": {},
   "outputs": [
    {
     "name": "stdout",
     "output_type": "stream",
     "text": [
      "1 32.41\n",
      "2 30.93\n",
      "3 33.23\n",
      "4 32.24\n",
      "5 32.5\n",
      "6 29.36\n",
      "7 31.72\n",
      "8 31.3\n",
      "9 32.76\n",
      "10 31.48\n",
      "11 30.79\n",
      "12 28.93\n",
      "13 31.95\n",
      "14 29.32\n",
      "15 30.73\n",
      "16 33.22\n",
      "17 30.86\n",
      "18 31.53\n",
      "19 33.26\n",
      "20 31.91\n",
      "21 35.27\n",
      "22 29.13\n",
      "23 28.95\n",
      "24 27.53\n",
      "25 30.61\n",
      "26 31.44\n",
      "27 30.76\n",
      "28 35.16\n",
      "29 29.04\n",
      "30 32.24\n",
      "31 30.41\n",
      "32 33.81\n",
      "33 32.28\n",
      "34 26.91\n",
      "35 31.17\n",
      "36 30.71\n",
      "37 31.62\n",
      "38 30.1\n",
      "39 35.58\n",
      "40 29.04\n",
      "41 32.51\n",
      "42 35.21\n",
      "43 32.92\n",
      "44 32.98\n",
      "45 29.73\n",
      "46 32.1\n",
      "47 31.34\n",
      "48 29.37\n",
      "49 28.34\n",
      "50 40.65\n",
      "51 30.3\n",
      "52 35.28\n",
      "53 36.17\n",
      "54 32.65\n",
      "55 31.62\n",
      "56 29.9\n",
      "57 29.27\n",
      "58 30.07\n",
      "59 27.4\n",
      "60 29.25\n",
      "61 30.75\n",
      "62 30.48\n",
      "63 32.97\n",
      "64 27.57\n",
      "65 31.7\n",
      "66 35.9\n",
      "67 34.86\n",
      "68 32.17\n"
     ]
    }
   ],
   "source": [
    "i = 0\n",
    "psnrs = list()\n",
    "\n",
    "with torch.no_grad():\n",
    "    for img in test_dataset:\n",
    "        i = i + 1\n",
    "        if True:\n",
    "            gt = img.to(device)[None, :, :, :]\n",
    "            noisy_image = (img.to(device) + (15/255.0)*torch.randn(img.shape, device=device))[None, :, :, :]\n",
    "            denoised =safi_denoise(noisy_image)\n",
    "            psnr = np.round(compute_PSNR(denoised, gt, 1), 2)\n",
    "            psnrs.append(psnr)\n",
    "            print(i, psnr)"
   ]
  },
  {
   "cell_type": "code",
   "execution_count": 7,
   "metadata": {},
   "outputs": [
    {
     "name": "stdout",
     "output_type": "stream",
     "text": [
      "31.55 2.39\n"
     ]
    }
   ],
   "source": [
    "print(np.round(np.mean(np.array(psnrs)), 2), np.round(np.std(np.array(psnrs)), 2))"
   ]
  },
  {
   "cell_type": "code",
   "execution_count": null,
   "metadata": {},
   "outputs": [],
   "source": []
  }
 ],
 "metadata": {
  "kernelspec": {
   "display_name": "htv_reg",
   "language": "python",
   "name": "python3"
  },
  "language_info": {
   "codemirror_mode": {
    "name": "ipython",
    "version": 3
   },
   "file_extension": ".py",
   "mimetype": "text/x-python",
   "name": "python",
   "nbconvert_exporter": "python",
   "pygments_lexer": "ipython3",
   "version": "3.9.16"
  }
 },
 "nbformat": 4,
 "nbformat_minor": 2
}
