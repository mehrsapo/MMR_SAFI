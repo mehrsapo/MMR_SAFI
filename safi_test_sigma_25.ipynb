{
 "cells": [
  {
   "cell_type": "code",
   "execution_count": 1,
   "metadata": {},
   "outputs": [],
   "source": [
    "from dataloader.BSD500 import BSD500\n",
    "import torch\n",
    "from R_network_relax import RNet\n",
    "import json\n",
    "from matplotlib import pyplot as plt\n",
    "import pandas as pd\n",
    "import numpy as np"
   ]
  },
  {
   "cell_type": "code",
   "execution_count": 2,
   "metadata": {},
   "outputs": [],
   "source": [
    "from skimage.metrics import peak_signal_noise_ratio as compare_psnr\n",
    "\n",
    "def compute_PSNR(img, imclean, data_range):\n",
    "    Img = img.data.cpu().numpy().astype(np.float32)\n",
    "    Iclean = imclean.data.cpu().numpy().astype(np.float32)\n",
    "    PSNR = compare_psnr(Iclean[0,:,:,:], Img[0,:,:,:], data_range=data_range)\n",
    "    return PSNR\n",
    "    "
   ]
  },
  {
   "cell_type": "code",
   "execution_count": 3,
   "metadata": {},
   "outputs": [],
   "source": [
    "test_dataset = BSD500('data/test.h5')"
   ]
  },
  {
   "cell_type": "code",
   "execution_count": 4,
   "metadata": {},
   "outputs": [],
   "source": [
    "sigma = 25  \n",
    "\n",
    "\n",
    "val_data = pd.read_csv(f\"{'denoise_val_results'}/validation_scores_{'sigma_25_relaxed_valid'}.csv\").reset_index(drop=True)\n",
    "p1 = val_data.loc[val_data[\"psnr\"].idxmax()][\"p1\"]\n",
    "\n",
    "\n",
    "exp = \"/home/pourya/mm_final/exps/sigma25/64_2_7_1e-3_relaxed\"\n",
    "path_ckp = exp + \"/checkpoints/checkpoint_best_epoch.pth\"\n",
    "path_config = exp + \"/config.json\"\n",
    "device = 'cuda:0'\n",
    "config = json.load(open(path_config))\n",
    "ckp = torch.load(path_ckp, map_location={'cuda:0':device,'cuda:1':device,'cuda:2':device,'cuda:3':device})\n",
    "\n",
    "model = RNet(config['model_params'])\n",
    "model.to(device)\n",
    "model.load_state_dict(ckp['state_dict'])\n",
    "model.eval()\n",
    "\n",
    "\n",
    "model.eigenimage = model.eigenimage.to(device)\n",
    "lip, model.eigenimage = model.W1.cal_lip(model.eigenimage, 1000)\n",
    "model.alpha = 1 / lip\n",
    "model.lmbda = torch.nn.Parameter(torch.ones(1, 1).to(device) * p1)\n",
    "\n",
    "\n",
    "model.W1.W1.weight.data = model.zeromean(model.W1.W1.weight)\n",
    "for i, _ in enumerate(model.W1.W1s): \n",
    "    model.W1.W1s[i].weight.data = model.zeromean(model.W1.W1s[i].weight)"
   ]
  },
  {
   "cell_type": "code",
   "execution_count": 5,
   "metadata": {},
   "outputs": [],
   "source": [
    "def safi_denoise(y):\n",
    "    s = 1e-3\n",
    "    n = 5\n",
    "    e = 1e-5\n",
    "    q = (e/s) ** (1/n)\n",
    "    tols = [s * q**(i) for i in range(n+1)]\n",
    "    n_out = 10\n",
    "    for _ in range(n_out-(n+1)):\n",
    "        tols.append(e)\n",
    "    with torch.no_grad(): \n",
    "        n_in = 100  \n",
    "        c_k = model.prox_denoise_no_mask(y, y, n_in, tols[0], check_tol=True)\n",
    "        for it in range(n_out - 1):   \n",
    "            model.cal_mask(c_k)\n",
    "            c_k_new = model.prox_denoise_with_mask(y, c_k, n_in, tols[it+1], check_tol=True)\n",
    "            rel_err_out = (torch.norm(c_k - c_k_new) / torch.norm(c_k)).item() \n",
    "            sc = \"{:0.1e}\".format(rel_err_out)\n",
    "            c_k = c_k_new\n",
    "    \n",
    "    return c_k"
   ]
  },
  {
   "cell_type": "code",
   "execution_count": 6,
   "metadata": {},
   "outputs": [
    {
     "name": "stdout",
     "output_type": "stream",
     "text": [
      "1 29.93\n",
      "2 28.56\n",
      "3 30.55\n",
      "4 29.79\n",
      "5 30.02\n",
      "6 26.5\n",
      "7 28.93\n",
      "8 28.64\n",
      "9 29.82\n",
      "10 28.9\n",
      "11 28.25\n",
      "12 26.16\n",
      "13 29.47\n",
      "14 26.56\n",
      "15 28.16\n",
      "16 30.79\n",
      "17 28.32\n",
      "18 29.32\n",
      "19 31.45\n",
      "20 29.56\n",
      "21 33.08\n",
      "22 27.44\n",
      "23 26.67\n",
      "24 24.37\n",
      "25 27.89\n",
      "26 28.81\n",
      "27 27.87\n",
      "28 32.87\n",
      "29 26.06\n",
      "30 30.34\n",
      "31 27.86\n",
      "32 32.02\n",
      "33 30.01\n",
      "34 23.96\n",
      "35 28.57\n",
      "36 28.26\n",
      "37 29.03\n",
      "38 27.49\n",
      "39 33.58\n",
      "40 26.3\n",
      "41 30.81\n",
      "42 32.77\n",
      "43 30.96\n",
      "44 30.25\n",
      "45 27.05\n",
      "46 29.68\n",
      "47 28.86\n",
      "48 26.85\n",
      "49 25.84\n",
      "50 38.39\n",
      "51 27.44\n",
      "52 33.6\n",
      "53 33.63\n",
      "54 30.11\n",
      "55 29.01\n",
      "56 27.19\n",
      "57 26.23\n",
      "58 27.5\n",
      "59 24.48\n",
      "60 26.57\n",
      "61 28.51\n",
      "62 28.05\n",
      "63 30.99\n",
      "64 24.69\n",
      "65 28.85\n",
      "66 32.92\n",
      "67 32.88\n",
      "68 29.44\n"
     ]
    }
   ],
   "source": [
    "i = 0\n",
    "psnrs = list()\n",
    "\n",
    "with torch.no_grad():\n",
    "    for img in test_dataset:\n",
    "        i = i + 1\n",
    "        if True:\n",
    "            gt = img.to(device)[None, :, :, :]\n",
    "            noisy_image = (img.to(device) + (25/255.0)*torch.randn(img.shape, device=device))[None, :, :, :]\n",
    "            denoised =safi_denoise(noisy_image)\n",
    "            psnr = np.round(compute_PSNR(denoised, gt, 1), 2)\n",
    "            psnrs.append(psnr)\n",
    "            print(i, psnr)"
   ]
  },
  {
   "cell_type": "code",
   "execution_count": 11,
   "metadata": {},
   "outputs": [
    {
     "name": "stdout",
     "output_type": "stream",
     "text": [
      "29.05 2.57\n"
     ]
    }
   ],
   "source": [
    "print(np.round(np.mean(np.array(psnrs)), 2), np.round(np.std(np.array(psnrs)), 2))"
   ]
  },
  {
   "cell_type": "code",
   "execution_count": null,
   "metadata": {},
   "outputs": [],
   "source": []
  }
 ],
 "metadata": {
  "kernelspec": {
   "display_name": "htv_reg",
   "language": "python",
   "name": "python3"
  },
  "language_info": {
   "codemirror_mode": {
    "name": "ipython",
    "version": 3
   },
   "file_extension": ".py",
   "mimetype": "text/x-python",
   "name": "python",
   "nbconvert_exporter": "python",
   "pygments_lexer": "ipython3",
   "version": "3.9.16"
  }
 },
 "nbformat": 4,
 "nbformat_minor": 2
}
