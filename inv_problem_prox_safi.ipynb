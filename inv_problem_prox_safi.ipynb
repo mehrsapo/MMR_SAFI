{
 "cells": [
  {
   "cell_type": "code",
   "execution_count": 1,
   "metadata": {},
   "outputs": [],
   "source": [
    "import utils as utils\n",
    "import json\n",
    "import copy\n",
    "import torch.nn as nn\n",
    "import torch\n",
    "from dataloader.BSD500 import BSD500\n",
    "import numpy as np\n",
    "from skimage.metrics import peak_signal_noise_ratio as compare_psnr\n",
    "from tqdm import tqdm\n",
    "import math\n",
    "from matplotlib import pyplot as plt\n",
    "from reconstruction_map_mask_perturbed import *\n",
    "from mri_forward_utils import *"
   ]
  },
  {
   "cell_type": "code",
   "execution_count": 2,
   "metadata": {},
   "outputs": [],
   "source": [
    "def compute_PSNR(img, imclean, data_range):\n",
    "    Img = img.data.cpu().numpy().astype(np.float32)\n",
    "    Iclean = imclean.data.cpu().numpy().astype(np.float32)\n",
    "    PSNR = compare_psnr(Iclean[0,:,:,:], Img[0,:,:,:], data_range=data_range)\n",
    "    return PSNR"
   ]
  },
  {
   "cell_type": "code",
   "execution_count": 3,
   "metadata": {},
   "outputs": [],
   "source": [
    "device = 'cuda:3'\n",
    "add = '/home/pourya/all_methods_backup/inverse_problems/mri/data/data_sets/singlecoil_acc_4_cf_0.08_noisesd_0.002/pdfs/test_images/file1001191'\n",
    "x = torch.load(add + '/x.pt').to(device)\n",
    "y = torch.load(add + '/y.pt').to(device)\n",
    "mask = torch.load(add + '/mask.pt').to(device)\n",
    "gt = torch.load(add + '/x_crop.pt').to(device)"
   ]
  },
  {
   "cell_type": "code",
   "execution_count": 4,
   "metadata": {},
   "outputs": [],
   "source": [
    "from R_network_relax import RNet \n",
    "import json, torch\n",
    "\n",
    "model_name = 'mask_safi' #opts.get('model_name', None)\n",
    "\n",
    "if model_name is None:\n",
    "    raise ValueError(\"Please provide a model_name for the mask model. It is the name of the folder corrsponding to the trained model.\")\n",
    "\n",
    "\n",
    "exp = \"exps/sigma15/64_2_7_1e-3_relaxed/\"\n",
    "#exp = \"exps/sigma_25_64_4_3_deq_shared/AdpReg_ccvcvx\"\n",
    "path_ckp = exp + \"/checkpoints/checkpoint_best_epoch.pth\"\n",
    "path_config = exp + \"/config.json\"\n",
    "config = json.load(open(path_config))\n",
    "ckp = torch.load(path_ckp, map_location={'cuda:0':device,'cuda:1':device,'cuda:2':device,'cuda:3':device})\n",
    "\n",
    "model = RNet(config['model_params'])\n",
    "model.to(device)\n",
    "model.load_state_dict(ckp['state_dict'])\n",
    "model.eval()\n",
    "\n",
    "model.W1.W1.weight.data = model.zeromean(model.W1.W1.weight)\n",
    "for i, _ in enumerate(model.W1.W1s): \n",
    "    model.W1.W1s[i].weight.data = model.zeromean(model.W1.W1s[i].weight)\n",
    "\n",
    "\n",
    "model.eigenimage = model.eigenimage.to(device)\n",
    "lip, model.eigenimage = model.W1.cal_lip(model.eigenimage, 200)\n",
    "model.alpha = 1 / lip"
   ]
  },
  {
   "cell_type": "code",
   "execution_count": 5,
   "metadata": {},
   "outputs": [
    {
     "name": "stderr",
     "output_type": "stream",
     "text": [
      "psnr: 34.24 | ssim: 0.8372 | res: 9.76e-04:  14%|█▎        | 41/300 [00:08<00:53,  4.82it/s]\n"
     ]
    },
    {
     "name": "stdout",
     "output_type": "stream",
     "text": [
      "perturbed PSNR (sol no mask, init mm): tensor(34.2424, device='cuda:3')\n"
     ]
    },
    {
     "name": "stderr",
     "output_type": "stream",
     "text": [
      "psnr: 35.93 | ssim: 0.8672 | res: 3.94e-04:  26%|██▌       | 77/300 [00:19<00:56,  3.91it/s]\n",
      "psnr: 36.30 | ssim: 0.8712 | res: 1.58e-04:  32%|███▏      | 95/300 [00:33<01:12,  2.84it/s]\n",
      "psnr: 36.38 | ssim: 0.8720 | res: 6.30e-05:  27%|██▋       | 82/300 [00:40<01:46,  2.05it/s]\n",
      "psnr: 36.41 | ssim: 0.8723 | res: 2.49e-05:  31%|███       | 92/300 [01:09<02:37,  1.32it/s]\n",
      "psnr: 36.43 | ssim: 0.8724 | res: 9.96e-06:  32%|███▏      | 96/300 [01:51<03:57,  1.16s/it]\n",
      "psnr: 36.43 | ssim: 0.8725 | res: 9.85e-06:  24%|██▎       | 71/300 [01:16<04:05,  1.07s/it]\n",
      "psnr: 36.43 | ssim: 0.8725 | res: 9.61e-06:  23%|██▎       | 69/300 [01:13<04:05,  1.06s/it]\n",
      "psnr: 36.43 | ssim: 0.8725 | res: 9.57e-06:  23%|██▎       | 68/300 [01:11<04:05,  1.06s/it]\n",
      "psnr: 36.44 | ssim: 0.8725 | res: 9.83e-06:  22%|██▏       | 67/300 [01:10<04:05,  1.05s/it]"
     ]
    },
    {
     "name": "stdout",
     "output_type": "stream",
     "text": [
      "final\n"
     ]
    },
    {
     "name": "stderr",
     "output_type": "stream",
     "text": [
      "\n"
     ]
    }
   ],
   "source": [
    "H = OpMRI_singlecoil_forward(mask, device)\n",
    "Ht = OpMRI_singlecoil_adjoint(mask, device)\n",
    "with torch.no_grad():\n",
    "    c_k = prox_Recon(y, model, lmbd=1.720804035659816e-05, H=H, Ht=Ht, op_norm=1, x_gt=gt, crop=True, max_iter=300, perturb=False)\n",
    "\n",
    "torch.save(c_k, 'perturb_inv/sol_no_perturb_safi.pt')"
   ]
  },
  {
   "cell_type": "code",
   "execution_count": 6,
   "metadata": {},
   "outputs": [
    {
     "name": "stderr",
     "output_type": "stream",
     "text": [
      "psnr: 34.24 | ssim: 0.8372 | res: 9.76e-04:  14%|█▎        | 41/300 [00:08<00:53,  4.80it/s]\n"
     ]
    },
    {
     "name": "stdout",
     "output_type": "stream",
     "text": [
      "perturbed PSNR (sol no mask, init mm): 24.16082763671875\n"
     ]
    },
    {
     "name": "stderr",
     "output_type": "stream",
     "text": [
      "psnr: 35.10 | ssim: 0.8540 | res: 3.91e-04:  29%|██▉       | 88/300 [00:22<00:53,  3.95it/s]\n",
      "psnr: 36.17 | ssim: 0.8691 | res: 1.57e-04:  37%|███▋      | 110/300 [00:39<01:08,  2.78it/s]\n",
      "psnr: 36.35 | ssim: 0.8715 | res: 6.27e-05:  31%|███       | 92/300 [00:45<01:43,  2.01it/s]\n",
      "psnr: 36.41 | ssim: 0.8722 | res: 2.47e-05:  32%|███▏      | 95/300 [01:12<02:35,  1.31it/s]\n",
      "psnr: 36.42 | ssim: 0.8724 | res: 9.81e-06:  35%|███▍      | 104/300 [02:03<03:52,  1.18s/it]\n",
      "psnr: 36.43 | ssim: 0.8724 | res: 9.74e-06:  24%|██▍       | 73/300 [01:18<04:05,  1.08s/it]\n",
      "psnr: 36.43 | ssim: 0.8725 | res: 9.91e-06:  23%|██▎       | 69/300 [01:13<04:05,  1.06s/it]\n",
      "psnr: 36.43 | ssim: 0.8725 | res: 9.73e-06:  23%|██▎       | 68/300 [01:11<04:05,  1.06s/it]\n",
      "psnr: 36.43 | ssim: 0.8725 | res: 9.87e-06:  22%|██▏       | 67/300 [01:10<04:05,  1.05s/it]"
     ]
    },
    {
     "name": "stdout",
     "output_type": "stream",
     "text": [
      "final\n"
     ]
    },
    {
     "name": "stderr",
     "output_type": "stream",
     "text": [
      "\n"
     ]
    }
   ],
   "source": [
    "H = OpMRI_singlecoil_forward(mask, device)\n",
    "Ht = OpMRI_singlecoil_adjoint(mask, device)\n",
    "with torch.no_grad():\n",
    "    c_k = prox_Recon(y, model, lmbd=1.720804035659816e-05, H=H, Ht=Ht, op_norm=1, x_gt=gt, crop=True, max_iter=300, perturb=True, perturb_seed=42)\n",
    "\n",
    "torch.save(c_k, 'perturb_inv/sol_perturb_42_safi.pt')"
   ]
  },
  {
   "cell_type": "code",
   "execution_count": 7,
   "metadata": {},
   "outputs": [
    {
     "name": "stderr",
     "output_type": "stream",
     "text": [
      "psnr: 34.24 | ssim: 0.8372 | res: 9.76e-04:  14%|█▎        | 41/300 [00:08<00:53,  4.81it/s]\n"
     ]
    },
    {
     "name": "stdout",
     "output_type": "stream",
     "text": [
      "perturbed PSNR (sol no mask, init mm): -0.15284794569015503\n"
     ]
    },
    {
     "name": "stderr",
     "output_type": "stream",
     "text": [
      "psnr: 34.17 | ssim: 0.8418 | res: 3.98e-04:  41%|████      | 122/300 [00:34<00:50,  3.54it/s]\n",
      "psnr: 36.08 | ssim: 0.8680 | res: 1.55e-04:  42%|████▏     | 126/300 [00:46<01:03,  2.73it/s]\n",
      "psnr: 36.33 | ssim: 0.8714 | res: 6.18e-05:  32%|███▏      | 97/300 [00:48<01:42,  1.99it/s]\n",
      "psnr: 36.40 | ssim: 0.8721 | res: 2.50e-05:  33%|███▎      | 100/300 [01:16<02:33,  1.30it/s]\n",
      "psnr: 36.42 | ssim: 0.8724 | res: 9.90e-06:  36%|███▌      | 107/300 [02:07<03:49,  1.19s/it]\n",
      "psnr: 36.43 | ssim: 0.8724 | res: 9.99e-06:  25%|██▍       | 74/300 [01:20<04:05,  1.08s/it]\n",
      "psnr: 36.43 | ssim: 0.8725 | res: 9.93e-06:  23%|██▎       | 70/300 [01:14<04:05,  1.07s/it]\n",
      "psnr: 36.43 | ssim: 0.8725 | res: 9.97e-06:  23%|██▎       | 68/300 [01:11<04:05,  1.06s/it]\n",
      "psnr: 36.43 | ssim: 0.8725 | res: 9.99e-06:  22%|██▏       | 67/300 [01:10<04:04,  1.05s/it]"
     ]
    },
    {
     "name": "stdout",
     "output_type": "stream",
     "text": [
      "final\n"
     ]
    },
    {
     "name": "stderr",
     "output_type": "stream",
     "text": [
      "\n"
     ]
    }
   ],
   "source": [
    "H = OpMRI_singlecoil_forward(mask, device)\n",
    "Ht = OpMRI_singlecoil_adjoint(mask, device)\n",
    "with torch.no_grad():\n",
    "    c_k = prox_Recon(y, model, lmbd=1.720804035659816e-05, H=H, Ht=Ht, op_norm=1, x_gt=gt, crop=True, max_iter=300, perturb=False, perturb_seed=42, start_noise=True)\n",
    "\n",
    "torch.save(c_k, 'perturb_inv/start_with_noise_safi.pt')"
   ]
  },
  {
   "cell_type": "code",
   "execution_count": 8,
   "metadata": {},
   "outputs": [
    {
     "data": {
      "image/png": "[encoded data removed]",
      "text/plain": [
       "<Figure size 700x400 with 1 Axes>"
      ]
     },
     "metadata": {},
     "output_type": "display_data"
    }
   ],
   "source": [
    "from matplotlib import pyplot as plt\n",
    "import numpy as np\n",
    "psnrs_cvx = [34.24, 35.93, 36.30, 36.38, 36.41, 36.43, 36.43, 36.43, 36.43, 36.44]\n",
    "psnrs_perturb = [24.16, 35.10, 36.17, 36.35, 36.41, 36.42, 36.43, 36.43, 36.43, 36.43]\n",
    "psnrs_noise = [0, 34.17, 36.08, 36.33, 36.40, 36.42, 36.43, 36.43, 36.43, 36.43]\n",
    "\n",
    "plt.figure(figsize=(7, 4))\n",
    "plt.plot(psnrs_cvx, label='Init: CVX')\n",
    "plt.plot(psnrs_perturb, label='Init: CVX + Noise')\n",
    "plt.plot(psnrs_noise, label='Init: Random')\n",
    "plt.legend()\n",
    "plt.xlabel('SAFI Updates')\n",
    "plt.ylabel('PSNR')\n",
    "plt.xticks(np.arange(0, 9, 1.0))\n",
    "plt.savefig('fig_data/safi_init.pdf', bbox_inches=\"tight\")\n",
    "plt.show()"
   ]
  },
  {
   "cell_type": "code",
   "execution_count": null,
   "metadata": {},
   "outputs": [],
   "source": []
  }
 ],
 "metadata": {
  "kernelspec": {
   "display_name": "htv_reg",
   "language": "python",
   "name": "python3"
  },
  "language_info": {
   "codemirror_mode": {
    "name": "ipython",
    "version": 3
   },
   "file_extension": ".py",
   "mimetype": "text/x-python",
   "name": "python",
   "nbconvert_exporter": "python",
   "pygments_lexer": "ipython3",
   "version": "3.9.16"
  },
  "orig_nbformat": 4
 },
 "nbformat": 4,
 "nbformat_minor": 2
}
